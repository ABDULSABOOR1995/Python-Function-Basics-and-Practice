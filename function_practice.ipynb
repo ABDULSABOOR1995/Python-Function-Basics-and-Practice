{
 "cells": [
  {
   "cell_type": "markdown",
   "metadata": {},
   "source": [
    "# Function\n",
    " A function is a set of statements that take inputs, do some specific computation and produces output.\n",
    " # Advantages of function\n",
    "                   \n",
    "     1- every operation done on behalf of its particular function\n",
    "     2- code reuseability(change occur only in function code not in whole code )\n",
    "     3- provide good readability and good understanding that what your pgm does\n",
    "     4- pgm become easier to test and debug\n",
    "     5- Information hiding\n",
    "     6- Designed to do an specific job\n",
    "     \n",
    "<b>Note:</b> We always use docstring in a function to describe its functionality\n",
    "\n",
    "# Disadvantages of function\n",
    "                        \n",
    "     1- Pgm become dependent on no.of function that are dependent on each other\n",
    "     2- pgm that has many dependencies execute slowly as compare to simple pgm"
   ]
  },
  {
   "cell_type": "markdown",
   "metadata": {},
   "source": [
    "<a id='h1'></a>\n",
    "### 1. Simple Function"
   ]
  },
  {
   "cell_type": "code",
   "execution_count": 1,
   "metadata": {},
   "outputs": [],
   "source": [
    "'''1- simple function that say greeting to user'''\n",
    "def greeting():\n",
    "    print(\"Hello\") # function definition"
   ]
  },
  {
   "cell_type": "code",
   "execution_count": 2,
   "metadata": {},
   "outputs": [
    {
     "name": "stdout",
     "output_type": "stream",
     "text": [
      "Hello\n"
     ]
    }
   ],
   "source": [
    "greeting() # function call"
   ]
  },
  {
   "cell_type": "markdown",
   "metadata": {},
   "source": [
    "[Go to summary](#summary)"
   ]
  },
  {
   "cell_type": "markdown",
   "metadata": {},
   "source": [
    "<a id='h2'></a>\n",
    "### 2. Function with args"
   ]
  },
  {
   "cell_type": "code",
   "execution_count": 3,
   "metadata": {},
   "outputs": [],
   "source": [
    "'''function that passes information as an argument'''\n",
    "def greeting(user_name):\n",
    "    print(\"Hello! \"+user_name.title())"
   ]
  },
  {
   "cell_type": "code",
   "execution_count": 4,
   "metadata": {},
   "outputs": [
    {
     "name": "stdout",
     "output_type": "stream",
     "text": [
      "Hello! Saboor\n"
     ]
    }
   ],
   "source": [
    "user_name = \"Saboor\"\n",
    "greeting(user_name)"
   ]
  },
  {
   "cell_type": "code",
   "execution_count": 5,
   "metadata": {},
   "outputs": [
    {
     "name": "stdout",
     "output_type": "stream",
     "text": [
      "Hello! Saboor\n"
     ]
    }
   ],
   "source": [
    "'''function that passes information as an argument'''\n",
    "def greeting(user_name):\n",
    "    print(\"Hello! \"+user_name.title())\n",
    "greeting(user_name=\"Saboor\")\n"
   ]
  },
  {
   "cell_type": "markdown",
   "metadata": {},
   "source": [
    "[Go to summary](#summary)"
   ]
  },
  {
   "cell_type": "markdown",
   "metadata": {},
   "source": [
    "<a id='h2.1'></a>\n",
    "#### 2.1 Function with key word arg"
   ]
  },
  {
   "cell_type": "code",
   "execution_count": 6,
   "metadata": {},
   "outputs": [
    {
     "name": "stdout",
     "output_type": "stream",
     "text": [
      "My pet is cat and it's name is kallu\n"
     ]
    }
   ],
   "source": [
    "'''If you change the position of argument in calling function then no error occur\n",
    "   if we use key word argument'''\n",
    "def pet(animal_type,pet_name):\n",
    "    print(\"My pet is \"+animal_type+\" and it's name is \"+pet_name)\n",
    "pet(pet_name= \"kallu\", animal_type = \"cat\")\n"
   ]
  },
  {
   "cell_type": "code",
   "execution_count": 7,
   "metadata": {},
   "outputs": [
    {
     "name": "stdout",
     "output_type": "stream",
     "text": [
      "My pet is Dog and it's name is puppy\n"
     ]
    }
   ],
   "source": [
    "pet(\"Dog\",\"puppy\") #function calling with diff arg"
   ]
  },
  {
   "cell_type": "markdown",
   "metadata": {},
   "source": [
    "[Go to summary](#summary)"
   ]
  },
  {
   "cell_type": "markdown",
   "metadata": {},
   "source": [
    "<a id='h2.2'></a>\n",
    "#### 2.2 Passing default arg to a func"
   ]
  },
  {
   "cell_type": "code",
   "execution_count": 8,
   "metadata": {},
   "outputs": [
    {
     "name": "stdout",
     "output_type": "stream",
     "text": [
      "My pet is cat and it's name is kallu\n"
     ]
    }
   ],
   "source": [
    "'''if we provide default value in argument in function definition they python use it'''\n",
    "def pet(animal_type,pet_name = 'kallu'):\n",
    "    print(\"My pet is \"+animal_type+\" and it's name is \"+pet_name)\n",
    "pet( animal_type = \"cat\")\n"
   ]
  },
  {
   "cell_type": "code",
   "execution_count": 9,
   "metadata": {},
   "outputs": [
    {
     "name": "stdout",
     "output_type": "stream",
     "text": [
      "My pet is cat and it's name is goru\n"
     ]
    }
   ],
   "source": [
    "'''but if we give another pet name in calling function so it replace default one '''\n",
    "def pet(animal_type,pet_name = \"kallu\"):\n",
    "    print(\"My pet is \"+animal_type+\" and it's name is \"+pet_name)\n",
    "pet(pet_name= \"goru\", animal_type = \"cat\")\n"
   ]
  },
  {
   "cell_type": "code",
   "execution_count": 10,
   "metadata": {},
   "outputs": [],
   "source": [
    "def shirt(size = 23 , color = \"yellow\"):\n",
    "    print(\"The shirt's size is \"+str(size)+\" and the color is \"+color)\n",
    "\n",
    "    "
   ]
  },
  {
   "cell_type": "code",
   "execution_count": 11,
   "metadata": {},
   "outputs": [
    {
     "name": "stdout",
     "output_type": "stream",
     "text": [
      "The shirt's size is 23 and the color is yellow\n"
     ]
    }
   ],
   "source": [
    "shirt() # kuch nahei diya to default aagay error nahei aaya"
   ]
  },
  {
   "cell_type": "code",
   "execution_count": 12,
   "metadata": {},
   "outputs": [
    {
     "name": "stdout",
     "output_type": "stream",
     "text": [
      "The shirt's size is 30 and the color is yellow\n"
     ]
    }
   ],
   "source": [
    "shirt(30) # sirf size diya to default size change hogaya "
   ]
  },
  {
   "cell_type": "code",
   "execution_count": 13,
   "metadata": {},
   "outputs": [
    {
     "name": "stdout",
     "output_type": "stream",
     "text": [
      "The shirt's size is 20 and the color is Red\n"
     ]
    }
   ],
   "source": [
    "shirt(20,\"Red\") # size or color dono diya to dono default values change hogaen"
   ]
  },
  {
   "cell_type": "markdown",
   "metadata": {},
   "source": [
    "[Go to summary](#summary)"
   ]
  },
  {
   "cell_type": "markdown",
   "metadata": {},
   "source": [
    "<a id='h2.3'></a>\n",
    "#### 2.3 passing list as an arg to a function"
   ]
  },
  {
   "cell_type": "code",
   "execution_count": 14,
   "metadata": {},
   "outputs": [
    {
     "name": "stdout",
     "output_type": "stream",
     "text": [
      "['Python', 'Java', 'R', 'Ruby and Rails']\n"
     ]
    }
   ],
   "source": [
    "'''showing a list using function'''\n",
    "def show_programming_languages(programming_languages):\n",
    "    print(programming_languages)\n",
    "programming_languages = [\"Python\",\"Java\",\"R\",\"Ruby and Rails\"]\n",
    "show_programming_languages(programming_languages)"
   ]
  },
  {
   "cell_type": "code",
   "execution_count": 15,
   "metadata": {},
   "outputs": [
    {
     "name": "stdout",
     "output_type": "stream",
     "text": [
      "Programming languages are:\n",
      "1- Python\n",
      "2- Java\n",
      "3- R\n",
      "4- Ruby and Rails\n"
     ]
    }
   ],
   "source": [
    "'''list that show items one by one(in simple form)'''\n",
    "def show_programming_languages(programming_languages):\n",
    "    i = 0\n",
    "    print(\"Programming languages are:\")\n",
    "    for programming_language in programming_languages:\n",
    "        i+= 1\n",
    "        print(str(i)+\"- \"+programming_language)\n",
    "programming_languages = [\"Python\",\"Java\",\"R\",\"Ruby and Rails\"]\n",
    "show_programming_languages(programming_languages)"
   ]
  },
  {
   "cell_type": "markdown",
   "metadata": {},
   "source": [
    "[Go to summary](#summary)"
   ]
  },
  {
   "cell_type": "markdown",
   "metadata": {},
   "source": [
    "<a id='h3'></a>\n",
    "### 3. Function that returns a value "
   ]
  },
  {
   "cell_type": "code",
   "execution_count": 51,
   "metadata": {},
   "outputs": [
    {
     "data": {
      "text/plain": [
       "'Hello! Saboor'"
      ]
     },
     "execution_count": 51,
     "metadata": {},
     "output_type": "execute_result"
    }
   ],
   "source": [
    "'''function that returns a value'''\n",
    "def greeting(user_name):\n",
    "    return \"Hello! \" + user_name\n",
    "greetings = greeting(\"Saboor\")\n",
    "greetings\n",
    "    "
   ]
  },
  {
   "cell_type": "code",
   "execution_count": 52,
   "metadata": {},
   "outputs": [
    {
     "data": {
      "text/plain": [
       "'Abdul Saboor'"
      ]
     },
     "execution_count": 52,
     "metadata": {},
     "output_type": "execute_result"
    }
   ],
   "source": [
    "def full_name(first_name, last_name):\n",
    "    return first_name + \" \" +last_name\n",
    "full_name(\"Abdul\",\"Saboor\")"
   ]
  },
  {
   "cell_type": "code",
   "execution_count": 53,
   "metadata": {},
   "outputs": [
    {
     "data": {
      "text/plain": [
       "'Abdul Saboor'"
      ]
     },
     "execution_count": 53,
     "metadata": {},
     "output_type": "execute_result"
    }
   ],
   "source": [
    "def full_name(first_name, last_name):\n",
    "    f_name =  first_name + \" \" +last_name\n",
    "    return(f_name)\n",
    "full_name(\"Abdul\",\"Saboor\")"
   ]
  },
  {
   "cell_type": "markdown",
   "metadata": {},
   "source": [
    "[Go to summary](#summary)"
   ]
  },
  {
   "cell_type": "markdown",
   "metadata": {},
   "source": [
    "<a id='h3.1'></a>\n",
    "#### 3.1 Function with optonal arg"
   ]
  },
  {
   "cell_type": "code",
   "execution_count": 54,
   "metadata": {},
   "outputs": [
    {
     "ename": "SyntaxError",
     "evalue": "non-default argument follows default argument (<ipython-input-54-e9090a922d4c>, line 2)",
     "output_type": "error",
     "traceback": [
      "\u001b[1;36m  File \u001b[1;32m\"<ipython-input-54-e9090a922d4c>\"\u001b[1;36m, line \u001b[1;32m2\u001b[0m\n\u001b[1;33m    def full_name(first_name,middle_name = '',last_name):# error: non-default argument follows default argument\u001b[0m\n\u001b[1;37m                 ^\u001b[0m\n\u001b[1;31mSyntaxError\u001b[0m\u001b[1;31m:\u001b[0m non-default argument follows default argument\n"
     ]
    }
   ],
   "source": [
    "'''Making an argument optional'''\n",
    "def full_name(first_name,middle_name = '',last_name):# error: non-default argument follows default argument\n",
    "    return first_name+\" \"+middle_name+\" \"+last_name\n"
   ]
  },
  {
   "cell_type": "code",
   "execution_count": 55,
   "metadata": {},
   "outputs": [],
   "source": [
    "'''Making an argument optional'''\n",
    "def full_name(first_name,last_name,middle_name = ''):\n",
    "    return first_name+\" \"+middle_name+\" \"+last_name\n"
   ]
  },
  {
   "cell_type": "code",
   "execution_count": 56,
   "metadata": {},
   "outputs": [
    {
     "data": {
      "text/plain": [
       "'Abdul Naqshbandi Saboor'"
      ]
     },
     "execution_count": 56,
     "metadata": {},
     "output_type": "execute_result"
    }
   ],
   "source": [
    "full_name('Abdul',\"Saboor\",\"Naqshbandi\")"
   ]
  },
  {
   "cell_type": "code",
   "execution_count": 57,
   "metadata": {},
   "outputs": [
    {
     "data": {
      "text/plain": [
       "'Abdul  Saboor'"
      ]
     },
     "execution_count": 57,
     "metadata": {},
     "output_type": "execute_result"
    }
   ],
   "source": [
    "full_name('Abdul',\"Saboor\") # give no error although we use 2 arg insted of 3 b/c of default argument"
   ]
  },
  {
   "cell_type": "code",
   "execution_count": 58,
   "metadata": {},
   "outputs": [
    {
     "name": "stdout",
     "output_type": "stream",
     "text": [
      "Enter n1: 6\n",
      "Enter n2: 3\n"
     ]
    },
    {
     "data": {
      "text/plain": [
       "9"
      ]
     },
     "execution_count": 58,
     "metadata": {},
     "output_type": "execute_result"
    }
   ],
   "source": [
    "'''simple calculator using function'''\n",
    "def addition(n1, n2):\n",
    "    return(n1+n2)\n",
    "n1 = int(input(\"Enter n1: \"))\n",
    "n2 = int(input(\"Enter n2: \"))\n",
    "addition(n1,n2)"
   ]
  },
  {
   "cell_type": "markdown",
   "metadata": {},
   "source": [
    "[Go to summary](#summary)"
   ]
  },
  {
   "cell_type": "markdown",
   "metadata": {},
   "source": [
    "<a id='h3.2'></a>\n",
    "#### 3.2 Return tuple or more than single value from function "
   ]
  },
  {
   "cell_type": "code",
   "execution_count": 59,
   "metadata": {},
   "outputs": [
    {
     "data": {
      "text/plain": [
       "6"
      ]
     },
     "execution_count": 59,
     "metadata": {},
     "output_type": "execute_result"
    }
   ],
   "source": [
    "            '''returning more than a value from function'''\n",
    "def power_oper(num1, num2):\n",
    "    val1 = num1 **num2\n",
    "    val2 = num2 **num1\n",
    "    val3 = num1 *num2\n",
    "    return val1,val2,val3\n",
    "val1,val2,val3 = power_oper(2,3)\n",
    "val1\n",
    "val2\n",
    "val3"
   ]
  },
  {
   "cell_type": "code",
   "execution_count": 60,
   "metadata": {},
   "outputs": [
    {
     "name": "stdout",
     "output_type": "stream",
     "text": [
      "32\n",
      "25\n",
      "10\n"
     ]
    }
   ],
   "source": [
    "             '''or we can return in the form of tuple'''\n",
    "    \n",
    "def power_oper(num1, num2):\n",
    "    val1 = num1 **num2\n",
    "    val2 = num2 **num1\n",
    "    val3 = num1 *num2\n",
    "    new_values  = (val1,val2,val3)\n",
    "    return new_values\n",
    "\n",
    "new_values = power_oper(2, 5)\n",
    "new_values\n",
    "print(new_values[0])\n",
    "print(new_values[1])\n",
    "print(new_values[2])"
   ]
  },
  {
   "cell_type": "markdown",
   "metadata": {},
   "source": [
    "[Go to summary](#summary)"
   ]
  },
  {
   "cell_type": "markdown",
   "metadata": {},
   "source": [
    "<a id='h4'></a>\n",
    "### 4. Operations on list using functions"
   ]
  },
  {
   "cell_type": "code",
   "execution_count": 26,
   "metadata": {},
   "outputs": [
    {
     "name": "stdout",
     "output_type": "stream",
     "text": [
      "Enter the item that has to be append in a list: \n",
      "Before appending:\n",
      "['Python', 'Java', 'R', 'Ruby and Rails']\n",
      "After appending:\n"
     ]
    },
    {
     "data": {
      "text/plain": [
       "['Python', 'Java', 'R', 'Ruby and Rails', '']"
      ]
     },
     "execution_count": 26,
     "metadata": {},
     "output_type": "execute_result"
    }
   ],
   "source": [
    "'''append operation using function'''\n",
    "def append_programming_languages(programming_languages,append_item):\n",
    "    print(\"Before appending:\")\n",
    "    print(programming_languages)\n",
    "    programming_languages.append(append_item)\n",
    "    print(\"After appending:\")\n",
    "    return programming_languages\n",
    "    \n",
    "programming_languages = [\"Python\",\"Java\",\"R\",\"Ruby and Rails\"]\n",
    "append_item = input(\"Enter the item that has to be append in a list: \")\n",
    "append_programming_languages(programming_languages,append_item)"
   ]
  },
  {
   "cell_type": "code",
   "execution_count": 27,
   "metadata": {},
   "outputs": [
    {
     "name": "stdout",
     "output_type": "stream",
     "text": [
      "Enter the item that has to be insert in a list: \n",
      "Enter the position of insertion: \n"
     ]
    },
    {
     "ename": "ValueError",
     "evalue": "invalid literal for int() with base 10: ''",
     "output_type": "error",
     "traceback": [
      "\u001b[1;31m---------------------------------------------------------------------------\u001b[0m",
      "\u001b[1;31mValueError\u001b[0m                                Traceback (most recent call last)",
      "\u001b[1;32m<ipython-input-27-b2b297d4c37d>\u001b[0m in \u001b[0;36m<module>\u001b[1;34m\u001b[0m\n\u001b[0;32m      9\u001b[0m \u001b[0mprogramming_languages\u001b[0m \u001b[1;33m=\u001b[0m \u001b[1;33m[\u001b[0m\u001b[1;34m\"Python\"\u001b[0m\u001b[1;33m,\u001b[0m\u001b[1;34m\"Java\"\u001b[0m\u001b[1;33m,\u001b[0m\u001b[1;34m\"R\"\u001b[0m\u001b[1;33m,\u001b[0m\u001b[1;34m\"Ruby and Rails\"\u001b[0m\u001b[1;33m]\u001b[0m\u001b[1;33m\u001b[0m\u001b[0m\n\u001b[0;32m     10\u001b[0m \u001b[0minsert_item\u001b[0m \u001b[1;33m=\u001b[0m \u001b[0minput\u001b[0m\u001b[1;33m(\u001b[0m\u001b[1;34m\"Enter the item that has to be insert in a list: \"\u001b[0m\u001b[1;33m)\u001b[0m\u001b[1;33m\u001b[0m\u001b[0m\n\u001b[1;32m---> 11\u001b[1;33m \u001b[0minsertion_position\u001b[0m \u001b[1;33m=\u001b[0m \u001b[0mint\u001b[0m\u001b[1;33m(\u001b[0m\u001b[0minput\u001b[0m\u001b[1;33m(\u001b[0m\u001b[1;34m\"Enter the position of insertion: \"\u001b[0m\u001b[1;33m)\u001b[0m\u001b[1;33m)\u001b[0m\u001b[1;33m\u001b[0m\u001b[0m\n\u001b[0m\u001b[0;32m     12\u001b[0m \u001b[0minsert_programming_languages\u001b[0m\u001b[1;33m(\u001b[0m\u001b[0mprogramming_languages\u001b[0m\u001b[1;33m,\u001b[0m \u001b[0minsert_item\u001b[0m\u001b[1;33m,\u001b[0m \u001b[0minsertion_position\u001b[0m \u001b[1;33m)\u001b[0m\u001b[1;33m\u001b[0m\u001b[0m\n",
      "\u001b[1;31mValueError\u001b[0m: invalid literal for int() with base 10: ''"
     ]
    }
   ],
   "source": [
    "'''insert operation using function'''\n",
    "def insert_programming_languages(programming_languages, insert_item, insertion_position ):\n",
    "    print(\"Before inserting:\")\n",
    "    print(programming_languages)\n",
    "    programming_languages.insert(insertion_position, insert_item)\n",
    "    print(\"After inserting:\")\n",
    "    return programming_languages\n",
    "    \n",
    "programming_languages = [\"Python\",\"Java\",\"R\",\"Ruby and Rails\"]\n",
    "insert_item = input(\"Enter the item that has to be insert in a list: \")\n",
    "insertion_position = int(input(\"Enter the position of insertion: \"))\n",
    "insert_programming_languages(programming_languages, insert_item, insertion_position )"
   ]
  },
  {
   "cell_type": "code",
   "execution_count": 28,
   "metadata": {},
   "outputs": [
    {
     "name": "stdout",
     "output_type": "stream",
     "text": [
      "Enter the item that has to be delete in a list: \n",
      "Before deleting:\n",
      "['Python', 'Java', 'R', 'Ruby and Rails']\n"
     ]
    },
    {
     "ename": "ValueError",
     "evalue": "list.remove(x): x not in list",
     "output_type": "error",
     "traceback": [
      "\u001b[1;31m---------------------------------------------------------------------------\u001b[0m",
      "\u001b[1;31mValueError\u001b[0m                                Traceback (most recent call last)",
      "\u001b[1;32m<ipython-input-28-a22e8a085485>\u001b[0m in \u001b[0;36m<module>\u001b[1;34m\u001b[0m\n\u001b[0;32m      9\u001b[0m \u001b[0mprogramming_languages\u001b[0m \u001b[1;33m=\u001b[0m \u001b[1;33m[\u001b[0m\u001b[1;34m\"Python\"\u001b[0m\u001b[1;33m,\u001b[0m\u001b[1;34m\"Java\"\u001b[0m\u001b[1;33m,\u001b[0m\u001b[1;34m\"R\"\u001b[0m\u001b[1;33m,\u001b[0m\u001b[1;34m\"Ruby and Rails\"\u001b[0m\u001b[1;33m]\u001b[0m\u001b[1;33m\u001b[0m\u001b[0m\n\u001b[0;32m     10\u001b[0m \u001b[0mdeleting_item\u001b[0m \u001b[1;33m=\u001b[0m \u001b[0minput\u001b[0m\u001b[1;33m(\u001b[0m\u001b[1;34m\"Enter the item that has to be delete in a list: \"\u001b[0m\u001b[1;33m)\u001b[0m\u001b[1;33m\u001b[0m\u001b[0m\n\u001b[1;32m---> 11\u001b[1;33m \u001b[0mdelete_programming_languages\u001b[0m\u001b[1;33m(\u001b[0m\u001b[0mprogramming_languages\u001b[0m\u001b[1;33m,\u001b[0m\u001b[0mdeleting_item\u001b[0m\u001b[1;33m)\u001b[0m\u001b[1;33m\u001b[0m\u001b[0m\n\u001b[0m",
      "\u001b[1;32m<ipython-input-28-a22e8a085485>\u001b[0m in \u001b[0;36mdelete_programming_languages\u001b[1;34m(programming_languages, deleting_item)\u001b[0m\n\u001b[0;32m      3\u001b[0m     \u001b[0mprint\u001b[0m\u001b[1;33m(\u001b[0m\u001b[1;34m\"Before deleting:\"\u001b[0m\u001b[1;33m)\u001b[0m\u001b[1;33m\u001b[0m\u001b[0m\n\u001b[0;32m      4\u001b[0m     \u001b[0mprint\u001b[0m\u001b[1;33m(\u001b[0m\u001b[0mprogramming_languages\u001b[0m\u001b[1;33m)\u001b[0m\u001b[1;33m\u001b[0m\u001b[0m\n\u001b[1;32m----> 5\u001b[1;33m     \u001b[0mprogramming_languages\u001b[0m\u001b[1;33m.\u001b[0m\u001b[0mremove\u001b[0m\u001b[1;33m(\u001b[0m\u001b[0mdeleting_item\u001b[0m\u001b[1;33m)\u001b[0m\u001b[1;33m\u001b[0m\u001b[0m\n\u001b[0m\u001b[0;32m      6\u001b[0m     \u001b[0mprint\u001b[0m\u001b[1;33m(\u001b[0m\u001b[1;34m\"After deleting:\"\u001b[0m\u001b[1;33m)\u001b[0m\u001b[1;33m\u001b[0m\u001b[0m\n\u001b[0;32m      7\u001b[0m     \u001b[1;32mreturn\u001b[0m \u001b[0mprogramming_languages\u001b[0m\u001b[1;33m\u001b[0m\u001b[0m\n",
      "\u001b[1;31mValueError\u001b[0m: list.remove(x): x not in list"
     ]
    }
   ],
   "source": [
    "'''delete particular item from list'''\n",
    "def delete_programming_languages(programming_languages, deleting_item):\n",
    "    print(\"Before deleting:\")\n",
    "    print(programming_languages)\n",
    "    programming_languages.remove(deleting_item)\n",
    "    print(\"After deleting:\")\n",
    "    return programming_languages\n",
    "    \n",
    "programming_languages = [\"Python\",\"Java\",\"R\",\"Ruby and Rails\"]\n",
    "deleting_item = input(\"Enter the item that has to be delete in a list: \")\n",
    "delete_programming_languages(programming_languages,deleting_item)"
   ]
  },
  {
   "cell_type": "code",
   "execution_count": 29,
   "metadata": {},
   "outputs": [
    {
     "name": "stdout",
     "output_type": "stream",
     "text": [
      "Before reversing:\n",
      "['Python', 'Java', 'R', 'Ruby and Rails']\n",
      "After reversing:\n",
      "None\n"
     ]
    }
   ],
   "source": [
    "'''reverse a list using function permanant function funtion me jakar apply nahei hota\n",
    "   iska khud function bana h or me be waqoof ise 1 or func me bhej raha hoon'''\n",
    "def reverse_programming_languages(programming_languages):\n",
    "    print(\"Before reversing:\")\n",
    "    print(programming_languages)\n",
    "    print(\"After reversing:\")\n",
    "    reverse = programming_languages.reverse()\n",
    "    return reverse\n",
    "programming_languages = [\"Python\",\"Java\",\"R\",\"Ruby and Rails\"]\n",
    "reverse = reverse_programming_languages(programming_languages)\n",
    "print(reverse)"
   ]
  },
  {
   "cell_type": "code",
   "execution_count": 30,
   "metadata": {},
   "outputs": [
    {
     "name": "stdout",
     "output_type": "stream",
     "text": [
      "Before sorting:\n",
      "['Python', 'Java', 'R', 'Ruby and Rails']\n",
      "After sorting:\n",
      "None\n"
     ]
    }
   ],
   "source": [
    "'''sort a list using function(permanant sort) permanant function funtion me jakar apply nahei hota\n",
    "   iska khud function bana h or me be waqoof ise 1 or func me bhej raha hoon'''\n",
    "def sort_programming_languages(programming_languages):\n",
    "    print(\"Before sorting:\")\n",
    "    print(programming_languages)\n",
    "    print(\"After sorting:\")\n",
    "    sort = programming_languages.sort() # Ye none dega\n",
    "    return sort\n",
    "programming_languages = [\"Python\",\"Java\",\"R\",\"Ruby and Rails\"]\n",
    "sort = sort_programming_languages(programming_languages)\n",
    "print(sort)"
   ]
  },
  {
   "cell_type": "code",
   "execution_count": 31,
   "metadata": {},
   "outputs": [
    {
     "name": "stdout",
     "output_type": "stream",
     "text": [
      "Before sorting:\n",
      "['Python', 'Java', 'R', 'Ruby and Rails']\n",
      "After sorting:\n",
      "['Java', 'Python', 'R', 'Ruby and Rails']\n"
     ]
    }
   ],
   "source": [
    "'''sort a list using function(temporary sort)'''\n",
    "def sort_programming_languages(programming_languages):\n",
    "    print(\"Before sorting:\")\n",
    "    print(programming_languages)\n",
    "    print(\"After sorting:\")\n",
    "    return sorted(programming_languages)\n",
    "programming_languages = [\"Python\",\"Java\",\"R\",\"Ruby and Rails\"]\n",
    "sort = sort_programming_languages(programming_languages)\n",
    "print(sort)"
   ]
  },
  {
   "cell_type": "code",
   "execution_count": 32,
   "metadata": {},
   "outputs": [],
   "source": [
    " # saare slicing function list me applicable hain q k wo temporary hote hain"
   ]
  },
  {
   "cell_type": "code",
   "execution_count": 33,
   "metadata": {},
   "outputs": [
    {
     "name": "stdout",
     "output_type": "stream",
     "text": [
      "There exist item or items\n"
     ]
    }
   ],
   "source": [
    "'''checking there exist item in a list or not using function'''\n",
    "def check_programming_languages(programming_languages):\n",
    "    if programming_languages:\n",
    "        print('There exist item or items')\n",
    "    else:\n",
    "        print('List is empty')\n",
    "\n",
    "\n",
    "programming_languages = [\"Python\",\"Java\",\"R\",\"Ruby and Rails\"]\n",
    "check_programming_languages(programming_languages)"
   ]
  },
  {
   "cell_type": "code",
   "execution_count": 34,
   "metadata": {},
   "outputs": [
    {
     "name": "stdout",
     "output_type": "stream",
     "text": [
      "There exist item or items\n"
     ]
    }
   ],
   "source": [
    "'''checking there exist item in a list or not using function'''\n",
    "def check_programming_languages(programming_languages):\n",
    "    if not programming_languages:\n",
    "        print('List is empty')\n",
    "    else:\n",
    "        print('There exist item or items')\n",
    "\n",
    "\n",
    "programming_languages = [\"Python\",\"Java\",\"R\",\"Ruby and Rails\"]\n",
    "check_programming_languages(programming_languages)"
   ]
  },
  {
   "cell_type": "code",
   "execution_count": 35,
   "metadata": {},
   "outputs": [
    {
     "ename": "TypeError",
     "evalue": "'str' object cannot be interpreted as an integer",
     "output_type": "error",
     "traceback": [
      "\u001b[1;31m---------------------------------------------------------------------------\u001b[0m",
      "\u001b[1;31mTypeError\u001b[0m                                 Traceback (most recent call last)",
      "\u001b[1;32m<ipython-input-35-2f68bb10708e>\u001b[0m in \u001b[0;36m<module>\u001b[1;34m\u001b[0m\n\u001b[0;32m      9\u001b[0m \u001b[1;33m\u001b[0m\u001b[0m\n\u001b[0;32m     10\u001b[0m \u001b[0mprogramming_languages\u001b[0m \u001b[1;33m=\u001b[0m \u001b[1;33m[\u001b[0m\u001b[1;34m\"Python\"\u001b[0m\u001b[1;33m,\u001b[0m\u001b[1;34m\"Java\"\u001b[0m\u001b[1;33m,\u001b[0m\u001b[1;34m\"R\"\u001b[0m\u001b[1;33m,\u001b[0m\u001b[1;34m\"Ruby and Rails\"\u001b[0m\u001b[1;33m]\u001b[0m\u001b[1;33m\u001b[0m\u001b[0m\n\u001b[1;32m---> 11\u001b[1;33m \u001b[0mpop_programming_languages_in_another_list\u001b[0m\u001b[1;33m(\u001b[0m\u001b[0mprogramming_languages\u001b[0m\u001b[1;33m)\u001b[0m\u001b[1;33m\u001b[0m\u001b[0m\n\u001b[0m\u001b[0;32m     12\u001b[0m \u001b[1;31m#programming_languages = pop_programming_languages_in_another_list(programming_languages)\u001b[0m\u001b[1;33m\u001b[0m\u001b[1;33m\u001b[0m\u001b[0m\n\u001b[0;32m     13\u001b[0m \u001b[1;31m#print(new_programming_languages)\u001b[0m\u001b[1;33m\u001b[0m\u001b[1;33m\u001b[0m\u001b[0m\n",
      "\u001b[1;32m<ipython-input-35-2f68bb10708e>\u001b[0m in \u001b[0;36mpop_programming_languages_in_another_list\u001b[1;34m(programming_languages)\u001b[0m\n\u001b[0;32m      3\u001b[0m     \u001b[0mnew_programming_languages\u001b[0m \u001b[1;33m=\u001b[0m \u001b[1;33m[\u001b[0m\u001b[1;33m]\u001b[0m\u001b[1;33m\u001b[0m\u001b[0m\n\u001b[0;32m      4\u001b[0m     \u001b[1;32mfor\u001b[0m \u001b[0mprogramming_language\u001b[0m \u001b[1;32min\u001b[0m \u001b[0mprogramming_languages\u001b[0m\u001b[1;33m:\u001b[0m\u001b[1;33m\u001b[0m\u001b[0m\n\u001b[1;32m----> 5\u001b[1;33m         \u001b[0mnew_programming_languages\u001b[0m\u001b[1;33m.\u001b[0m\u001b[0mappend\u001b[0m\u001b[1;33m(\u001b[0m\u001b[0mprogramming_languages\u001b[0m\u001b[1;33m.\u001b[0m\u001b[0mpop\u001b[0m\u001b[1;33m(\u001b[0m\u001b[0mprogramming_language\u001b[0m\u001b[1;33m)\u001b[0m\u001b[1;33m)\u001b[0m\u001b[1;31m# is ko hamesha int me karen ge\u001b[0m\u001b[1;33m\u001b[0m\u001b[0m\n\u001b[0m\u001b[0;32m      6\u001b[0m     \u001b[0mprint\u001b[0m\u001b[1;33m(\u001b[0m\u001b[0mprogramming_languages\u001b[0m\u001b[1;33m)\u001b[0m\u001b[1;33m\u001b[0m\u001b[0m\n\u001b[0;32m      7\u001b[0m     \u001b[1;31m#return new_programming_languages\u001b[0m\u001b[1;33m\u001b[0m\u001b[1;33m\u001b[0m\u001b[0m\n",
      "\u001b[1;31mTypeError\u001b[0m: 'str' object cannot be interpreted as an integer"
     ]
    }
   ],
   "source": [
    "'''pop_programming_languages_in_another_list using function'''\n",
    "def pop_programming_languages_in_another_list(programming_languages):\n",
    "    new_programming_languages = []\n",
    "    for programming_language in programming_languages:\n",
    "        new_programming_languages.append(programming_languages.pop(programming_language))# is ko hamesha int me karen ge\n",
    "    print(programming_languages)\n",
    "    #return new_programming_languages\n",
    "   #return programming_languages\n",
    "    \n",
    "programming_languages = [\"Python\",\"Java\",\"R\",\"Ruby and Rails\"]\n",
    "pop_programming_languages_in_another_list(programming_languages)\n",
    "#programming_languages = pop_programming_languages_in_another_list(programming_languages)\n",
    "#print(new_programming_languages)"
   ]
  },
  {
   "cell_type": "code",
   "execution_count": 36,
   "metadata": {},
   "outputs": [
    {
     "name": "stdout",
     "output_type": "stream",
     "text": [
      "['Ruby and Rails', 'R', 'Java', 'Python']\n",
      "[]\n",
      "[]\n",
      "[]\n",
      "[]\n",
      "[]\n",
      "[]\n",
      "[]\n"
     ]
    }
   ],
   "source": [
    "'''pop_programming_languages_in_another_list using function'''\n",
    "def pop_programming_languages_in_another_list(programming_languages):\n",
    "    new_programming_languages = []\n",
    "    for i in range(0, len(programming_languages)):\n",
    "        new_programming_languages.append(programming_languages.pop())\n",
    "    print(new_programming_languages)\n",
    "    print(programming_languages)\n",
    "    return new_programming_languages\n",
    "    return programming_languages\n",
    "    \n",
    "programming_languages = [\"Python\",\"Java\",\"R\",\"Ruby and Rails\"]\n",
    "pop_programming_languages_in_another_list(programming_languages)\n",
    "new_programming_languages = pop_programming_languages_in_another_list(programming_languages)\n",
    "programming_languages = pop_programming_languages_in_another_list(programming_languages)\n",
    "print(new_programming_languages)\n",
    "print(programming_languages)"
   ]
  },
  {
   "cell_type": "code",
   "execution_count": 37,
   "metadata": {},
   "outputs": [
    {
     "name": "stdout",
     "output_type": "stream",
     "text": [
      "Before operation:\n",
      "new_programming_languages: []\n",
      "programming_languages: ['Python', 'Java', 'R', 'Ruby and Rails']\n",
      "After operation In method:\n",
      "new_programming_languages: ['Ruby and Rails', 'R', 'Java', 'Python']\n",
      "programming_languages: []\n",
      "After operation In main:\n",
      "new_programming_languages: ['Ruby and Rails', 'R', 'Java', 'Python']\n",
      "programming_languages: []\n"
     ]
    }
   ],
   "source": [
    "'''pop_programming_languages_in_another_list using function'''\n",
    "def pop_programming_languages_in_another_list(programming_languages):\n",
    "    new_programming_languages = []\n",
    "    print(\"Before operation:\")\n",
    "    print(\"new_programming_languages: \"+str(new_programming_languages))\n",
    "    print(\"programming_languages: \"+str(programming_languages))\n",
    "    while programming_languages:\n",
    "        new_programming_languages.append(programming_languages.pop())\n",
    "    print(\"After operation In method:\")\n",
    "    print(\"new_programming_languages: \"+str(new_programming_languages))\n",
    "    print(\"programming_languages: \"+str(programming_languages))\n",
    "    return new_programming_languages,programming_languages\n",
    "    \n",
    "programming_languages = [\"Python\",\"Java\",\"R\",\"Ruby and Rails\"]\n",
    "new_programming_languages,programming_languages = pop_programming_languages_in_another_list(programming_languages)\n",
    "print(\"After operation In main:\")\n",
    "print(\"new_programming_languages: \"+str(new_programming_languages))\n",
    "print(\"programming_languages: \"+str(programming_languages))\n"
   ]
  },
  {
   "cell_type": "code",
   "execution_count": 38,
   "metadata": {},
   "outputs": [
    {
     "data": {
      "text/plain": [
       "{'C++', 'Java', 'Python', 'R', 'Ruby and Rails'}"
      ]
     },
     "execution_count": 38,
     "metadata": {},
     "output_type": "execute_result"
    }
   ],
   "source": [
    "'''Making a set of list using function'''\n",
    "def set_programming_languages(programming_languages):\n",
    "    return set(programming_languages) \n",
    "\n",
    "programming_languages = ['Ruby and Rails', 'R', 'Java', 'Python', 'C++', 'R', 'C++']\n",
    "set_programming_languages(programming_languages)"
   ]
  },
  {
   "cell_type": "code",
   "execution_count": 39,
   "metadata": {},
   "outputs": [
    {
     "data": {
      "text/plain": [
       "['Ruby and Rails', 'R', 'Java', 'Python', 'R']"
      ]
     },
     "execution_count": 39,
     "metadata": {},
     "output_type": "execute_result"
    }
   ],
   "source": [
    "'''remove all instancesd of particular item from a list using function'''\n",
    "def remove_programming_languages(programming_languages):\n",
    "    while 'C++' in programming_languages:\n",
    "        programming_languages.remove('C++')\n",
    "    return programming_languages\n",
    "\n",
    "programming_languages = ['Ruby and Rails', 'R', 'Java', 'Python', 'C++', 'R', 'C++']\n",
    "remove_programming_languages(programming_languages)"
   ]
  },
  {
   "cell_type": "code",
   "execution_count": 40,
   "metadata": {},
   "outputs": [],
   "source": [
    "def full_names(first_names, last_names):\n",
    "    names = []\n",
    "    i = 0\n",
    "    for f_name in first_names:\n",
    "        j= 0 \n",
    "        for l_name in last_names:\n",
    "            names.append(\"[\"+str(i)+\"]\"\"[\"+str(j)+\"]\"+f_name+\" \"+l_name)\n",
    "            j+= 1\n",
    "        i+= 1\n",
    "    return names\n",
    "\n",
    "first_names = ['Abdul','Muhammad','Syed','Mirza'] \n",
    "last_names = ['Saboor','Samad','Ali','Usama','Bilal']\n",
    "names = full_names(first_names, last_names)"
   ]
  },
  {
   "cell_type": "code",
   "execution_count": 41,
   "metadata": {},
   "outputs": [
    {
     "data": {
      "text/plain": [
       "['[0][0]Abdul Saboor',\n",
       " '[0][1]Abdul Samad',\n",
       " '[0][2]Abdul Ali',\n",
       " '[0][3]Abdul Usama',\n",
       " '[0][4]Abdul Bilal',\n",
       " '[1][0]Muhammad Saboor',\n",
       " '[1][1]Muhammad Samad',\n",
       " '[1][2]Muhammad Ali',\n",
       " '[1][3]Muhammad Usama',\n",
       " '[1][4]Muhammad Bilal',\n",
       " '[2][0]Syed Saboor',\n",
       " '[2][1]Syed Samad',\n",
       " '[2][2]Syed Ali',\n",
       " '[2][3]Syed Usama',\n",
       " '[2][4]Syed Bilal',\n",
       " '[3][0]Mirza Saboor',\n",
       " '[3][1]Mirza Samad',\n",
       " '[3][2]Mirza Ali',\n",
       " '[3][3]Mirza Usama',\n",
       " '[3][4]Mirza Bilal']"
      ]
     },
     "execution_count": 41,
     "metadata": {},
     "output_type": "execute_result"
    }
   ],
   "source": [
    "names"
   ]
  },
  {
   "cell_type": "markdown",
   "metadata": {},
   "source": [
    "[Go to summary](#summary)"
   ]
  },
  {
   "cell_type": "markdown",
   "metadata": {},
   "source": [
    "<a id='h5'></a>\n",
    "### 5. Passing arbitrary no .of arguments in a function( or tuple)"
   ]
  },
  {
   "cell_type": "code",
   "execution_count": 42,
   "metadata": {},
   "outputs": [
    {
     "name": "stdout",
     "output_type": "stream",
     "text": [
      "('Sindh', 'punjab', 'Balouchistan', 'KPK')\n"
     ]
    }
   ],
   "source": [
    "def show_provinces(provinces):\n",
    "    print(provinces)\n",
    "    \n",
    "provinces = ('Sindh','punjab','Balouchistan','KPK')\n",
    "show_provinces(provinces) # agar variable me le kar tuple bheja to func def me * ki zaroorat nahei"
   ]
  },
  {
   "cell_type": "code",
   "execution_count": 43,
   "metadata": {},
   "outputs": [
    {
     "name": "stdout",
     "output_type": "stream",
     "text": [
      "('Sindh', 'punjab', 'Balouchistan', 'KPK')\n"
     ]
    }
   ],
   "source": [
    "def show_provinces(*provinces): # (*) for passing arbitrary no .of arguments \n",
    "    print(provinces)\n",
    "    \n",
    "show_provinces('Sindh','punjab','Balouchistan','KPK') # bina variable k bheja to func def me * lagaen ge"
   ]
  },
  {
   "cell_type": "code",
   "execution_count": 44,
   "metadata": {},
   "outputs": [
    {
     "name": "stdout",
     "output_type": "stream",
     "text": [
      "('abc', 'bcd', 'xyz', 'yza')\n"
     ]
    }
   ],
   "source": [
    "def no_of_items(*items):\n",
    "    print(items)\n",
    "no_of_items('abc','bcd','xyz','yza')"
   ]
  },
  {
   "cell_type": "markdown",
   "metadata": {},
   "source": [
    "[Go to summary](#summary)"
   ]
  },
  {
   "cell_type": "markdown",
   "metadata": {},
   "source": [
    "<a id='h5.1'></a>\n",
    "### 5.1 mixing positional and arbitrary args"
   ]
  },
  {
   "cell_type": "code",
   "execution_count": 45,
   "metadata": {},
   "outputs": [
    {
     "name": "stdout",
     "output_type": "stream",
     "text": [
      "('abc', 'bcd', 'xyz', 'yza')\n",
      "16\n"
     ]
    }
   ],
   "source": [
    "'''Mixing positional and arbitrary args'''\n",
    "def no_of_items(s,*items):# 1st me size catch kia or doosre me arbitrary args \n",
    "    print(items)\n",
    "    print(s)\n",
    "\n",
    "size = 16\n",
    "no_of_items(size,'abc','bcd','xyz','yza') # 1st me size bheja baqi sab arbitrary args bheje"
   ]
  },
  {
   "cell_type": "markdown",
   "metadata": {},
   "source": [
    "[Go to summary](#summary)"
   ]
  },
  {
   "cell_type": "markdown",
   "metadata": {},
   "source": [
    "<a id='h6'></a>\n",
    "### 6. Dictionary operations in a function"
   ]
  },
  {
   "cell_type": "code",
   "execution_count": 46,
   "metadata": {},
   "outputs": [
    {
     "name": "stdout",
     "output_type": "stream",
     "text": [
      "{'name': 'Abdul Saboor', 'roll_no': '2015-SE-143', 'depart': 'Software Engineering'}\n",
      "{'name': 'Rahima Khan', 'roll_no': '2014-SL-420', 'depart': 'Mathematics'}\n"
     ]
    }
   ],
   "source": [
    "'''defining a dictionary and sending values through func'''\n",
    "def student_details(name, roll_no, depart):\n",
    "    student_01 = {'name': name, 'roll_no': roll_no, 'depart': depart}\n",
    "    return student_01\n",
    "\n",
    "print(student_details(\"Abdul Saboor\", \"2015-SE-143\", \"Software Engineering\"))\n",
    "print(student_details(\"Rahima Khan\", \"2014-SL-420\", \"Mathematics\"))"
   ]
  },
  {
   "cell_type": "code",
   "execution_count": 47,
   "metadata": {},
   "outputs": [
    {
     "name": "stdout",
     "output_type": "stream",
     "text": [
      "Enter name of student: \n",
      "Enter roll_no of student: \n",
      "Enter name depart student: \n"
     ]
    },
    {
     "data": {
      "text/plain": [
       "{'name': '', 'roll_no': '', 'depart': ''}"
      ]
     },
     "execution_count": 47,
     "metadata": {},
     "output_type": "execute_result"
    }
   ],
   "source": [
    "def student_details(name, roll_no, depart):\n",
    "    student_01 = {'name': name, 'roll_no': roll_no, 'depart': depart}\n",
    "    return student_01\n",
    "\n",
    "name = input(\"Enter name of student: \")\n",
    "roll_no = input(\"Enter roll_no of student: \")\n",
    "depart = input(\"Enter name depart student: \")\n",
    "student_details(name, roll_no, depart)"
   ]
  },
  {
   "cell_type": "code",
   "execution_count": 48,
   "metadata": {},
   "outputs": [
    {
     "name": "stdout",
     "output_type": "stream",
     "text": [
      "Enter name of student: \n",
      "Enter roll_no of student: \n",
      "Enter name depart student: \n"
     ]
    },
    {
     "data": {
      "text/plain": [
       "3"
      ]
     },
     "execution_count": 48,
     "metadata": {},
     "output_type": "execute_result"
    }
   ],
   "source": [
    "'''how many items in dict'''\n",
    "def student_details(name, roll_no, depart):\n",
    "    student_01 = {'name': name, 'roll_no': roll_no, 'depart': depart}\n",
    "    i = 0\n",
    "    for item in student_01.keys():\n",
    "        i+= 1\n",
    "    return i\n",
    "\n",
    "name = input(\"Enter name of student: \")\n",
    "roll_no = input(\"Enter roll_no of student: \")\n",
    "depart = input(\"Enter name depart student: \")\n",
    "no_of_items = student_details(name, roll_no, depart)\n",
    "no_of_items"
   ]
  },
  {
   "cell_type": "code",
   "execution_count": 49,
   "metadata": {},
   "outputs": [
    {
     "name": "stdout",
     "output_type": "stream",
     "text": [
      "Enter your first name: \n",
      "Enter your last name: \n"
     ]
    },
    {
     "data": {
      "text/plain": [
       "{'First_name': '',\n",
       " 'Last_name': '',\n",
       " 'full_name': 'Abdul Saboor',\n",
       " 'e_mail': 'asaboor94@gmail.com',\n",
       " 'id': 96}"
      ]
     },
     "execution_count": 49,
     "metadata": {},
     "output_type": "execute_result"
    }
   ],
   "source": [
    "'''some times you don't know which type of information is collected through args in dict\n",
    "   so you can use an arbitrary no.of arguments in func def for passing list items'''\n",
    "def user_detail(first_name, last_name, **other_information):\n",
    "    detail = {'First_name':first_name, 'Last_name': last_name }\n",
    "    for key, value in other_information.items():\n",
    "        detail[key]  = value\n",
    "    return detail\n",
    "\n",
    "first_name  = input(\"Enter your first name: \")\n",
    "last_name  = input(\"Enter your last name: \")\n",
    "user_detail(first_name, last_name, full_name =\"Abdul Saboor\", e_mail = \"asaboor94@gmail.com\", id = 96)"
   ]
  },
  {
   "cell_type": "code",
   "execution_count": 50,
   "metadata": {},
   "outputs": [],
   "source": [
    "# dictionary ki saari cheezain func me aese hi hongeen lehaza or practice ki zaroorat nahei "
   ]
  },
  {
   "cell_type": "markdown",
   "metadata": {},
   "source": [
    "<a id='summary'></a>\n",
    "# Summary"
   ]
  },
  {
   "cell_type": "markdown",
   "metadata": {},
   "source": [
    "[1. Simple Function](#h1)<br>\n",
    "[2. Function with args](#h2)<br>\n",
    ">[2.1 Function with key word arg](#h2.1)<br>\n",
    "[2.2 passing list as an arg to a function](#h2.2)<br>\n",
    "[2.3 passing list as an arg to a function](#h2.3)"
   ]
  },
  {
   "cell_type": "markdown",
   "metadata": {},
   "source": [
    "[3. Function that returns a value ](#h3)<br>\n",
    "> [3.1 Function with optonal arg](#h3.1)<br>\n",
    "[3.2 Return tuple or more than single value from function](#h3.2)<br>"
   ]
  },
  {
   "cell_type": "markdown",
   "metadata": {},
   "source": [
    "[4.Operations on list using functions](#h4)<br>\n",
    "[5. Passing arbitrary no .of arguments in a function( or tuple)](#h5)<br>\n",
    "> [5.1 mixing positional and arbitrary args](#h5.1)\n"
   ]
  },
  {
   "cell_type": "markdown",
   "metadata": {},
   "source": [
    "[6. Dictionary operations in a function](#h6)"
   ]
  },
  {
   "cell_type": "code",
   "execution_count": null,
   "metadata": {},
   "outputs": [],
   "source": []
  },
  {
   "cell_type": "code",
   "execution_count": null,
   "metadata": {},
   "outputs": [],
   "source": []
  }
 ],
 "metadata": {
  "kernelspec": {
   "display_name": "Python 3",
   "language": "python",
   "name": "python3"
  },
  "language_info": {
   "codemirror_mode": {
    "name": "ipython",
    "version": 3
   },
   "file_extension": ".py",
   "mimetype": "text/x-python",
   "name": "python",
   "nbconvert_exporter": "python",
   "pygments_lexer": "ipython3",
   "version": "3.6.5"
  }
 },
 "nbformat": 4,
 "nbformat_minor": 2
}
